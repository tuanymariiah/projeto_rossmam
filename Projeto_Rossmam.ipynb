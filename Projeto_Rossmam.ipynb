{
  "nbformat": 4,
  "nbformat_minor": 0,
  "metadata": {
    "colab": {
      "name": "Projeto Rossmam.ipynb",
      "provenance": [],
      "mount_file_id": "1vwi0MHbsFYyINpxJt7jJiewlWoQ8FS0b",
      "authorship_tag": "ABX9TyNd+BPachOcaeAy+yYzXwjE",
      "include_colab_link": true
    },
    "kernelspec": {
      "name": "python3",
      "display_name": "Python 3"
    },
    "language_info": {
      "name": "python"
    }
  },
  "cells": [
    {
      "cell_type": "markdown",
      "metadata": {
        "id": "view-in-github",
        "colab_type": "text"
      },
      "source": [
        "<a href=\"https://colab.research.google.com/github/tuanymariiah/projeto_rossmam/blob/main/Projeto_Rossmam.ipynb\" target=\"_parent\"><img src=\"https://colab.research.google.com/assets/colab-badge.svg\" alt=\"Open In Colab\"/></a>"
      ]
    },
    {
      "cell_type": "markdown",
      "metadata": {
        "id": "ZlMoR3JKuPSw"
      },
      "source": [
        "#Importação das Bibliotecas\n"
      ]
    },
    {
      "cell_type": "code",
      "metadata": {
        "id": "o2D3Ss1nEsjG"
      },
      "source": [
        " import pandas as\n",
        " import numpy as np"
      ],
      "execution_count": 4,
      "outputs": []
    },
    {
      "cell_type": "markdown",
      "metadata": {
        "id": "b30LnIiiuqe6"
      },
      "source": [
        "#Carrega Dataset"
      ]
    },
    {
      "cell_type": "code",
      "metadata": {
        "id": "KhrlD9Tjcqqw"
      },
      "source": [
        "base = ''\n",
        "data = read_csv(base, low_memory=False)"
      ],
      "execution_count": 4,
      "outputs": []
    },
    {
      "cell_type": "markdown",
      "metadata": {
        "id": "Yv5wvojRuuRD"
      },
      "source": [
        "# Descrição dos Dados"
      ]
    },
    {
      "cell_type": "code",
      "metadata": {
        "id": "wnOmVOBYcqoz"
      },
      "source": [
        ""
      ],
      "execution_count": 4,
      "outputs": []
    },
    {
      "cell_type": "code",
      "metadata": {
        "id": "XtQc_hygcqk5"
      },
      "source": [
        ""
      ],
      "execution_count": 4,
      "outputs": []
    },
    {
      "cell_type": "code",
      "metadata": {
        "id": "SaouyBgocqh1"
      },
      "source": [
        ""
      ],
      "execution_count": 4,
      "outputs": []
    }
  ]
}